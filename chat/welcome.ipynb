{
 "cells": [
  {
   "attachments": {},
   "cell_type": "markdown",
   "metadata": {},
   "source": [
    "# hey! welcome to the documentation of PythonOS\n",
    "\n",
    "what your reading is porly documented code!! hahaha, well most of it at least\n",
    "\n",
    "this program is a basic operating system is whipped up while i pulled an all nighter, \n",
    "\n",
    "you can create addons using this .ipynb file for refrence.\n",
    "\n",
    "if you feel like you want to fix and organise the code up, please do as i'm to lazy to fix it except the desktop issue.\n",
    "\n",
    "lets first start off by setting vars and importing files."
   ]
  },
  {
   "cell_type": "code",
   "execution_count": null,
   "metadata": {},
   "outputs": [],
   "source": [
    "#!/usr/bin/env python3\n",
    "\"\"\"\n",
    "Module Docstring\n",
    "\"\"\"\n",
    "\n",
    "__author__ = \"charlie!\"\n",
    "__version__ = \"0.1.0\"\n",
    "__license__ = \"construct1.0\"\n",
    "\n",
    "\n",
    "\n",
    "\n",
    "import tkinter as tk\n",
    "import subprocess\n",
    "import json\n",
    "import keyboard\n",
    "import PyQt5.QtWidgets\n",
    "import PyQt5.QtCore\n",
    "import PyQt5.QtWebEngineWidgets\n",
    "\n",
    "from PyQt5.QtWidgets import QApplication\n",
    "from PyQt5.QtCore import QUrl\n",
    "from PyQt5.QtWebEngineWidgets import QWebEngineView\n",
    "from tkinter import messagebox\n",
    "\n",
    "import sys,os\n",
    "import time\n",
    "import argparse\n",
    "import math\n",
    "script_dir = os.path.dirname(os.path.abspath(__file__))\n",
    "filepath, files_path, file_path = os.path.join(script_dir, \"home\")"
   ]
  },
  {
   "attachments": {},
   "cell_type": "markdown",
   "metadata": {},
   "source": [
    "this code block creates files for people to use when you call create_file(filepath)"
   ]
  },
  {
   "cell_type": "code",
   "execution_count": null,
   "metadata": {},
   "outputs": [],
   "source": [
    "def create_file(file_path):\n",
    "    if not os.path.exists(home_directory):\n",
    "        os.mkdir(home_directory)\n",
    "    \n",
    "    filename = 'file{}.py'.format(len(os.listdir(file_path)))\n",
    " \n",
    "    with open(file_path, 'w') as file:\n",
    "        file.write('This is the content of {}'.format(filename))\n",
    "        print(\"print com1\")\n",
    "    load_files(filepath)"
   ]
  },
  {
   "attachments": {},
   "cell_type": "markdown",
   "metadata": {},
   "source": [
    "This code block defines a function named load_files that takes in a single argument files_. The function is used to display a list of files as icons with their names and file extensions on a graphical user interface (GUI) desktop window.\n",
    "\n",
    "The code first clears any existing widgets on the desktop window using a for loop that calls the destroy() method on each widget. This is done to ensure that the desktop is cleared before displaying the new list of files.\n",
    "\n",
    "The code then checks whether the path to the files exists, and creates it if it doesn't exist using the os module. It then retrieves a list of files in the directory specified by files_path using the os.listdir() method, sorts them alphabetically using the sorted() function and stores them in the files variable.\n",
    "\n",
    "The code then calculates the number of columns to use for displaying the icons based on the width of the desktop window. The desktop_width variable stores the width of the desktop window, while the icon_width variable stores the desired width of each icon. The grid_columns variable is calculated by dividing the desktop_width by the icon_width and rounding down to the nearest integer. If the desktop_width is less than the icon_width, grid_columns is set to 1 to ensure that at least one icon is displayed.\n",
    "\n",
    "Next, the code initializes variables grid_row and grid_column to keep track of the current row and column of the grid layout for displaying the icons. It then iterates over each file in the files list and performs the following operations for each file:\n",
    "\n",
    "Constructs the path to the file using the os.path.join() method.\n",
    "Creates a tk.Label widget to display the name of the file on the desktop. The text argument is set to the name of the file, and the pady argument is set to 10 to add padding between the labels.\n",
    "Determines the file extension using the os.path.splitext() method and stores it in the extension variable.\n",
    "Sets the background color of the label based on the file extension using a series of if/elif statements. If the file has an extension of .cs, the label is set to have a light blue background; if the extension is .html, the background is set to red, and so on.\n",
    "Binds two event handlers to the label using the bind() method. The first handler is bound to the left mouse button click event (\"<Button-1>\") and calls the open_file() function with the path to the file as an argument. The second handler is bound to the right mouse button click event (\"<Button-3>\") and calls the show_file_context_menu() function with the path to the file and the event that triggered the right-click as arguments.\n",
    "Adds the label to the desktop window using the grid() method, specifying the current grid_row and grid_column and adding 10 pixels of padding on each side (padx and pady). The sticky argument is set to 'w' to ensure that the labels are left-justified.\n",
    "Sets the font and image of the label using the config() method, passing a tuple with the desired font and an image created by the get_file_icon() function, which generates a thumbnail icon for the file.\n",
    "Increments the grid_column variable, and if it has reached the value of grid_columns, resets it to 0 and increments the grid_row variable.\n",
    "Once all the files have been processed, the function returns, and the desktop window displays the icons and labels for each file in"
   ]
  },
  {
   "cell_type": "code",
   "execution_count": null,
   "metadata": {},
   "outputs": [],
   "source": [
    "def load_files(files_path):\n",
    "    for widget in desktop.winfo_children():\n",
    "        widget.destroy()\n",
    "\n",
    "    if not os.path.exists(files_path):\n",
    "        os.makedirs(files_path)\n",
    "\n",
    "    files = sorted(os.listdir(files_path))  # Sort files alphabetically\n",
    "\n",
    "    # Calculate the number of columns based on the width of the desktop window\n",
    "    desktop_width = desktop.winfo_width()\n",
    "    icon_width = 150\n",
    "    grid_columns = max(desktop_width // icon_width, 1)\n",
    "\n",
    "    grid_row = 0\n",
    "    grid_column = 0\n",
    "\n",
    "    for file in files:\n",
    "        file_path = os.path.join(files_path, file)\n",
    "        label = tk.Label(desktop, text=file, pady=10)\n",
    "\n",
    "        # Get the file extension\n",
    "        _, extension = os.path.splitext(file_path)\n",
    "\n",
    "        # Set the background color based on the file extension\n",
    "        if extension == '.cs':\n",
    "            label.configure(background='lightblue')\n",
    "        elif extension == '.html':\n",
    "            label.configure(background='red')\n",
    "        elif extension == '.py':\n",
    "            label.configure(background='yellow')\n",
    "        elif extension == '.css':\n",
    "            label.configure(background='blue')\n",
    "        elif extension == '.js':\n",
    "            label.configure(background='orange')\n",
    "        elif extension == '.txt':\n",
    "            label.configure(background='white')\n",
    "\n",
    "        label.bind(\"<Button-1>\", lambda event, path=file_path: open_file(path))\n",
    "        label.bind(\"<Button-3>\", lambda event, path=file_path: show_file_context_menu(event, path))\n",
    "        label.grid(row=grid_row, column=grid_column, padx=10, pady=10, sticky='w')\n",
    "\n",
    "        # Scale the icon size based on the width of the desktop window\n",
    "        icon_size = max(min(desktop_width // grid_columns - 20, icon_width), 50)\n",
    "        label.config(font=(\"TkDefaultFont\", 12), image=get_file_icon(file_path, icon_size))\n",
    "        label.image = get_file_icon(file_path, icon_size)\n",
    "\n",
    "        grid_column += 1\n",
    "        if grid_column == grid_columns:\n",
    "            grid_column = 0\n",
    "            grid_row += 1\n"
   ]
  },
  {
   "attachments": {},
   "cell_type": "markdown",
   "metadata": {},
   "source": []
  },
  {
   "cell_type": "code",
   "execution_count": null,
   "metadata": {},
   "outputs": [],
   "source": [
    "def delete_file(file_path):\n",
    "    if os.path.isfile(file_path):\n",
    "        os.remove(file_path)\n",
    "        print(f'{file_path} has been deleted.')\n",
    "\n",
    "delete_file('file_path')\n",
    "load_files(filepath)"
   ]
  },
  {
   "attachments": {},
   "cell_type": "markdown",
   "metadata": {},
   "source": []
  },
  {
   "cell_type": "code",
   "execution_count": null,
   "metadata": {},
   "outputs": [],
   "source": [
    "def open_html_file(file_path):\n",
    "    app = QApplication(sys.argv)\n",
    "\n",
    "    # Create a QWebEngineView instance\n",
    "    web_view = QWebEngineView()\n",
    "\n",
    "    # Load the local file\n",
    "    web_view.load(QUrl.fromLocalFile(file_path))\n",
    "\n",
    "    # Show the browser window\n",
    "    web_view.show()\n",
    "\n",
    "    # Run the application event loop\n",
    "    sys.exit(app.exec_())"
   ]
  },
  {
   "attachments": {},
   "cell_type": "markdown",
   "metadata": {},
   "source": [
    "This code block defines a function show_file_context_menu(event, file_path) which is called when the user right-clicks on a file icon in the desktop.\n",
    "\n",
    "The function first creates a context_menu object using the tk.Menu() method, and sets its tearoff attribute to 0 to prevent it from being detached from the parent window.\n",
    "\n",
    "Then, the function adds several options to the context menu based on the file type of the selected file. If the file is a Python script (.py), two options are added to run it with either the Python IDE or the panno editor. Similarly, if the file is an HTML file (.html), an option is added to open it with a browser, and if it's a text file (.txt) or a C# script (.cs), an option is added to open it with the panno editor.\n",
    "\n",
    "In addition to these options, the function adds a number of standard options to the context menu, including \"Open\", \"Rename\", \"Refresh\", and \"Delete\".\n",
    "\n",
    "Finally, the function displays the context menu using the post() method, which takes the x and y coordinates of the mouse cursor (passed in as event.x_root and event.y_root, respectively) as arguments. After the menu is displayed, the function calls the load_files() function to reload the desktop icons."
   ]
  },
  {
   "cell_type": "code",
   "execution_count": null,
   "metadata": {},
   "outputs": [],
   "source": [
    "def show_file_context_menu(event, file_path):\n",
    "    context_menu = tk.Menu(desktop, tearoff=0)\n",
    "\n",
    "    # Add \"Open\" option to the right-click menu\n",
    "    context_menu.add_command(label='Open', command=lambda: open_file(file_path))\n",
    "    if not is_pinned(file_path):\n",
    "        context_menu.add_command(label='pin to task bar', command=lambda: pin_to_taskbar(file_path))\n",
    "    if is_pinned(file_path):\n",
    "        context_menu.add_command(label='unpin from task bar', command=lambda: unpin_from_taskbar(file_path))\n",
    "\n",
    "    if file_path.endswith('.py'):\n",
    "        context_menu.add_command(label='Run with Python IDE', command=lambda: run_with_python_ide(file_path))\n",
    "        context_menu.add_command(label='Run with panno', command=lambda: run_with_panno(file_path))\n",
    "\n",
    "    if file_path.endswith('.html'):\n",
    "        context_menu.add_command(label='Open with Browser', command=lambda: run_with_pyle(file_path))\n",
    "        \n",
    "        if file_path.endswith('.txt'):\n",
    "            context_menu.add_command(label='Open with panno', command=lambda: run_with_panno(file_path))\n",
    "        \n",
    "        if file_path.endswith('.cs'):\n",
    "            context_menu.add_command(label='Open with panno', command=lambda: run_with_panno(file_path))\n",
    "        \n",
    "    \n",
    "    context_menu.add_command(label='Rename', command=lambda: start_rename(file_path))\n",
    "    context_menu.add_command(label='panno!', command=lambda: run_with_panno(file_path))\n",
    "    context_menu.add_command(label='Refresh', command=lambda: refresh_code())\n",
    "    context_menu.add_command(label='Delete', command=lambda: (delete_file(file_path), load_files(filepath)))\n",
    "\n",
    "    context_menu.post(event.x_root, event.y_root)\n",
    "    load_files(filepath)"
   ]
  },
  {
   "attachments": {},
   "cell_type": "markdown",
   "metadata": {},
   "source": [
    "This code block contains three functions that launch external programs to open or run a file.\n",
    "\n",
    "The first function, run_with_python_ide(file_path), opens the Python Integrated Development Environment (IDLE) and runs the Python file specified by the file_path argument. This function uses the subprocess module to launch IDLE with the -r option, which tells IDLE to open the specified file. If IDLE is not installed on the system, a message box with an error message is displayed.\n",
    "\n",
    "The second function, run_with_pyle(file_path), runs a Python script using the pyle package. The subprocess module is used to launch the python command with the script path and working directory specified. If pyle is not installed in the /assets folder, a message box with an error message is displayed.\n",
    "\n",
    "The third function, run_with_panno(file_path), runs a Python script using the panno package. The subprocess module is used to launch the python command with the script path and working directory specified. If panno is not installed in the required folder, a message box with an error message is displayed."
   ]
  },
  {
   "cell_type": "code",
   "execution_count": null,
   "metadata": {},
   "outputs": [],
   "source": []
  },
  {
   "cell_type": "code",
   "execution_count": null,
   "metadata": {},
   "outputs": [],
   "source": [
    "def run_with_python_ide(file_path):\n",
    "    try:\n",
    "        subprocess.Popen(['idle', '-r', 'file_path'])\n",
    "    except FileNotFoundError:\n",
    "        messagebox.showerror('Run with Python IDE', 'IDLE is not installed on your system!.')\n",
    "def run_with_pyle(file_path):\n",
    "    try:\n",
    "        subprocess.Popen(['python', script_path1], cwd=script_dir)\n",
    "    except FileNotFoundError:\n",
    "        messagebox.showerror('Run with pyle', 'pyle is not installed into the /assets folder!.')\n",
    "def run_with_panno(file_path):\n",
    "    try:\n",
    "        subprocess.Popen(['python', script_path0], cwd=script_dir)\n",
    "    except FileNotFoundError:\n",
    "        messagebox.showerror('Run with Panno', 'panno is not installed into the required folder!.')"
   ]
  },
  {
   "attachments": {},
   "cell_type": "markdown",
   "metadata": {},
   "source": [
    "\n",
    "This code block does the following:\n",
    "\n",
    "Defines a function desktop_right_click that is called when the user right-clicks on the desktop window.\n",
    "The function creates a context menu using the tk.Menu method and assigns it to the context_menu variable.\n",
    "The context menu has two options: \"html\" and \"open old menu\". The \"html\" option calls the create_file function and the \"open old menu\" option calls the show_file_context_menu function.\n",
    "The context_menu.post(event.x_root, event.y_root) method displays the context menu at the clicked coordinates.\n",
    "The desktop.bind(\"<Button-3>\", desktop_right_click) method binds the desktop_right_click function to the right-click event on the desktop window.\n",
    "The script_path and home_directory variables are defined to specify the path to the script and the \"documenta\" directory, respectively.\n",
    "\n",
    "alltho home_directory is not or is rarely used, try to keep to the file_path, filepath or files_path option."
   ]
  },
  {
   "cell_type": "code",
   "execution_count": null,
   "metadata": {},
   "outputs": [],
   "source": [
    "def desktop_right_click(event):\n",
    "    # Create the context menu\n",
    "    context_menu = tk.Menu(desktop, tearoff=0)\n",
    "\n",
    "    # Add \"file creation\" option to the context menu\n",
    "    context_menu.add_command(label=\"html\", command=lambda: create_file(file_path))  # Provide the appropriate file path\n",
    "    \n",
    "    \n",
    "    # Add a separator line\n",
    "    context_menu.add_separator()\n",
    "\n",
    "    # Add \"Run with Python IDE\" option to the context menu\n",
    "    context_menu.add_command(label=\"open old menu\", command=lambda: show_file_context_menu(event,file_path))  # Provide the appropriate file path\n",
    "\n",
    "    # Display the context menu at the clicked coordinates\n",
    "    context_menu.post(event.x_root, event.y_root)\n",
    "\n",
    "# Bind the right-click event to the desktop window\n",
    "desktop.bind(\"<Button-3>\", desktop_right_click)\n",
    "\n",
    "script_path = os.path.dirname(os.path.abspath(__file__))\n",
    "home_directory = os.path.join(script_path, 'documenta')"
   ]
  },
  {
   "attachments": {},
   "cell_type": "markdown",
   "metadata": {},
   "source": [
    "This function takes a file_path as input and starts a renaming process for the file.\n",
    "\n",
    "It creates a new tk.Entry widget and places it inside the label widget corresponding to the file. The entry widget is initialized with the current file name obtained from the file_path variable.\n",
    "\n",
    "The entry widget is then bound to two events. The first event, <Return>, is triggered when the user presses the Return key after editing the entry field. This event calls the finish_rename() function, passing it the file_path and the entry widget as arguments.\n",
    "\n",
    "The second event, <FocusOut>, is triggered when the entry widget loses focus, which happens when the user clicks somewhere else in the window. This event destroys the entry widget without renaming the file.\n",
    "\n",
    "Finally, the entry widget is packed into the label widget, selected, and focused to allow the user to edit the file name.\n"
   ]
  },
  {
   "cell_type": "code",
   "execution_count": null,
   "metadata": {},
   "outputs": [],
   "source": [
    "def start_rename(file_path):\n",
    "    label = find_label(file_path)\n",
    "    entry = tk.Entry(label, relief=tk.FLAT)\n",
    "    entry.insert(0, os.path.basename(file_path))\n",
    "    entry.bind(\"<Return>\", lambda event, path=file_path, entry=entry: finish_rename(path, entry))\n",
    "    entry.bind(\"<FocusOut>\", lambda event, entry=entry: entry.destroy())\n",
    "    entry.pack()\n",
    "    entry.select_range(0, tk.END)\n",
    "    entry.focus()"
   ]
  },
  {
   "attachments": {},
   "cell_type": "markdown",
   "metadata": {},
   "source": [
    "This function is called when the user finishes renaming a file. It takes in the old file path and the new file name (entered by the user) in the form of an entry widget.\n",
    "\n",
    "First, it retrieves the new file name entered by the user and removes any leading/trailing white spaces. It then creates the new file path by joining the directory of the old file path with the new file name.\n",
    "\n",
    "The function then renames the old file to the new file path using the os.rename function. If the old file was pinned to the taskbar, it unpins the old file and pins the new file to the taskbar.\n",
    "\n",
    "Finally, it calls the load_files function to refresh the file explorer and display the new file name in the list."
   ]
  },
  {
   "cell_type": "code",
   "execution_count": null,
   "metadata": {},
   "outputs": [],
   "source": [
    "def finish_rename(file_path, entry):\n",
    "    new_filename = entry.get().strip()\n",
    "    new_file_path = os.path.join(os.path.dirname(file_path), new_filename)\n",
    "    os.rename(file_path, new_file_path)\n",
    "    if is_pinned(file_path):\n",
    "        unpin_from_taskbar(file_path)\n",
    "        pin_to_taskbar(new_file_path)\n",
    "    load_files(filepath)"
   ]
  },
  {
   "attachments": {},
   "cell_type": "markdown",
   "metadata": {},
   "source": [
    "This code defines the pin_to_taskbar function which takes a file_path as an argument. The function checks if the file is not already pinned to the taskbar and if it is not, creates a new label on the taskbar with the text being the name of the file, and packs it to the left of the existing labels.\n",
    "\n",
    "Note that taskbar should be defined and initialized before this function can be called."
   ]
  },
  {
   "cell_type": "code",
   "execution_count": null,
   "metadata": {},
   "outputs": [],
   "source": [
    "def pin_to_taskbar(file_path):\n",
    "    if not is_pinned(file_path):\n",
    "        taskbar_label = tk.Label(taskbar, text=os.path.basename(file_path), padx=10)\n",
    "        taskbar_label.pack(side=tk.LEFT)"
   ]
  },
  {
   "attachments": {},
   "cell_type": "markdown",
   "metadata": {},
   "source": [
    "this one just is the right click menu actvator"
   ]
  },
  {
   "cell_type": "code",
   "execution_count": null,
   "metadata": {},
   "outputs": [],
   "source": [
    "taskbar_label.bind(\"<Button-1>\", lambda event, path=file_path: open_pinned_file())\n",
    "taskbar_label.bind(\"<Button-3>\", lambda event, path=file_path: show_file_context_menu(event, path))"
   ]
  },
  {
   "attachments": {},
   "cell_type": "markdown",
   "metadata": {},
   "source": [
    "this one finds the widget and removes it or smth, i have no clue what i am looking at, got too lazy to chuck this in chatGPT"
   ]
  },
  {
   "cell_type": "code",
   "execution_count": null,
   "metadata": {},
   "outputs": [],
   "source": [
    "def unpin_from_taskbar(file_path):\n",
    "    for widget in taskbar.winfo_children():\n",
    "        if isinstance(widget, tk.Label) and widget.cget(\"text\") == os.path.basename(file_path):\n",
    "            widget.destroy()"
   ]
  },
  {
   "attachments": {},
   "cell_type": "markdown",
   "metadata": {},
   "source": [
    "\n",
    "This function searches for a label widget in the desktop window that has the same text as the given file_path parameter. It does this by looping through all the child widgets of the desktop window using winfo_children() method of the Tkinter module. For each widget, it checks if it is an instance of tk.Label and if its text matches the given file_path parameter using the cget() method. If a matching label is found, the function returns it."
   ]
  },
  {
   "cell_type": "code",
   "execution_count": null,
   "metadata": {},
   "outputs": [],
   "source": [
    "def find_label(file_path):\n",
    "    for widget in desktop.winfo_children():\n",
    "        if isinstance(widget, tk.Label) and widget.cget(\"text\") == os.path.basename(file_path):\n",
    "            return widget"
   ]
  },
  {
   "attachments": {},
   "cell_type": "markdown",
   "metadata": {},
   "source": [
    "This function checks if a given file path is currently pinned to the taskbar or not. It does so by iterating through all the children widgets of the taskbar and checking if any of them is a Label widget with the same text as the file path's basename. If such a widget is found, it means the file is currently pinned, and the function returns True. Otherwise, it returns False."
   ]
  },
  {
   "cell_type": "code",
   "execution_count": null,
   "metadata": {},
   "outputs": [],
   "source": [
    "def is_pinned(file_path):\n",
    "    for widget in taskbar.winfo_children():\n",
    "        if isinstance(widget, tk.Label) and widget.cget(\"text\") == os.path.basename(file_path):\n",
    "            return True\n",
    "        return False"
   ]
  },
  {
   "attachments": {},
   "cell_type": "markdown",
   "metadata": {},
   "source": [
    "and this is the end of the file."
   ]
  },
  {
   "cell_type": "code",
   "execution_count": null,
   "metadata": {},
   "outputs": [],
   "source": [
    "load_files(filepath)\n",
    "\n",
    "\n",
    "root.mainloop()"
   ]
  },
  {
   "attachments": {},
   "cell_type": "markdown",
   "metadata": {},
   "source": [
    "this is all the available imports for you to use"
   ]
  },
  {
   "cell_type": "code",
   "execution_count": null,
   "metadata": {},
   "outputs": [],
   "source": [
    "import desktop\n",
    "from desktop import load_files,taskbar,taskbar_color,run_with_panno,run_with_pyle,run_with_python_ide,start_rename,finish_rename,refresh_code,desktop_right_click,root,taskbar_height,taskbar_name,pin_to_taskbar,unpin_from_taskbar,create_file,configparser,show_file_context_menu,file_context_menu,file_path,filepath,find_label,open_file,delete_file,open_html_file,home_directory,keyboard,config,script_path,script_path1,script_dir,is_pinned,panno,show_popup,script_path0,app,argparse,QWebEngineView,math,messagebox,desktop,subprocess,sys"
   ]
  }
 ],
 "metadata": {
  "kernelspec": {
   "display_name": "Python 3",
   "language": "python",
   "name": "python3"
  },
  "language_info": {
   "name": "python",
   "version": "3.11.3"
  },
  "orig_nbformat": 4
 },
 "nbformat": 4,
 "nbformat_minor": 2
}
